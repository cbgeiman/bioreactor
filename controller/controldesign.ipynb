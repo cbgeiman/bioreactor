{
 "cells": [
  {
   "cell_type": "markdown",
   "metadata": {},
   "source": [
    "# Bioreactor feedback control design\n",
    "Based on Wikipedia pages on [control theory](https://en.wikipedia.org/wiki/Control_theory) and [PID control](https://en.wikipedia.org/wiki/PID_controller). Some quotes without attribution, do not publish as is.\n",
    "\n",
    "**Control variable ($u(t)$)**: LED panel voltage.\n",
    "\n",
    "**Process variable (PV)**: carbon dioxide concentration of ambient environment, measured with a Senseair S8/LP8 sensor.\n",
    "\n",
    "**Set point (SP)**: 800 ppm.\n",
    "\n",
    "$SP-PV$ is the error signal, which is applied as feedback to generate a control action, turning the lights up or down, in order to bring the $PV$ closer to the $SP$.\n",
    "\n",
    "The following is a generic closed loop controller. Here, $SP-PV = e(t)$\n",
    "\n",
    "![](https://upload.wikimedia.org/wikipedia/commons/9/90/Simple_feedback_control_loop2.svg)\n",
    "\n",
    "The closed loop transfer function is as follows.\n",
    "\n",
    "$$H(s)=\\frac{P(s)C(s)}{1+P(s)C(s)}$$\n",
    "\n",
    "where $Y(s)=H(s)R(s)$\n",
    "\n",
    "## Finding $P(s)$\n",
    "### Determining the equation\n",
    "In our case, the plant is found via system identification, assuming all variables except light intensity and photosynthesis rate are held constant. A voltage is applied to the lights, which produces a light intensity that is applied to the algae, which produces a certain photosynthesis rate. The Blackman equation for photosynthesis indicates that the photosynthesis response to light intensity will be linear, as long as the light intensity and CO2 concentration are within a range that does not saturate the photosynthesis rate. \n",
    "\n",
    "![](https://www.biology-pages.info/R/RateLimits.jpg)\n",
    "\n",
    "Because photosynthesis rate is equivalent with CO2 rate, the result can then be integrated to determine the resulting CO2 concentration. The plant, which is also the open loop transfer function, is represented as follows:\n",
    "\n",
    "$$P(s)=\\frac{Y(s)}{U(s)}=\\frac{K_L K_P}{s}$$\n",
    "\n",
    "Think of the plant as the dynamics of the actuator, the lights ($K_L$), in series with the dynamics of the the algae ($\\frac{K_P}{s}$). *is it appropriate to say that the integrator is part of the algae dynamics?* \n",
    "\n",
    "### Determining the gains\n",
    "From system identification experiments:"
   ]
  },
  {
   "cell_type": "code",
   "execution_count": 1,
   "metadata": {},
   "outputs": [],
   "source": [
    "K_L = 1;\n",
    "K_P = 1;"
   ]
  },
  {
   "cell_type": "markdown",
   "metadata": {},
   "source": [
    "## Finding $C(s)$\n",
    "### Determining the equation\n",
    "In order to respond to elevated levels and rates of CO2 without using too much energy (that is, without keeping the lights on high all the time), we can design a PID controller.\n",
    "\n",
    "<div class=\"alert alert-block alert-info\">\n",
    "<b>What do the P, I, and D terms mean?</b>\n",
    "    \n",
    "*Term P* is proportional to the current value of the $SP-PV$ error. So, if the error is large the control output, the voltage, will be proportionately large, leading to bright lights and a high photosynthesis rate.\n",
    "\n",
    "*Term I* accounts for past values of the $SP−PV$ error and integrates them over time to produce the I term. For example, if there is a residual $SP−PV$ error after the application of proportional control, the integral term seeks to eliminate the residual error by adding a control effect due to the historic cumulative value of the error.\n",
    "\n",
    "*Term D* is a best estimate of the future trend of the $SP−PV$ error, based on its current rate of change. The more rapid the change, the greater the controlling or damping effect. So, if the CO2 level is increasing rapidly, this term will result in a larger voltage command to the lights.\n",
    "</div>\n",
    "\n",
    "Let's first specify a couple system requirements in order to know which damping ratio and natural frequency we should be aiming for the system to have. The CO2 level should get within 2% of the reference in an hour and overshoot the reference by no more than 20%, so settling time $T_s=3600s$ and percent overhoot $\\%OS=20\\%$. Thus:\n",
    "\n",
    "$$\\zeta = \\frac{-ln(\\%OS/100)}{\\sqrt{\\pi^2+ln(\\%OS/100)}} = 0.46$$\n",
    "and $$\\omega_n=\\frac{4}{\\zeta T_s}=2.44\\times10^{-3}s^{-1}$$\n",
    "\n",
    "Now we can plot where the poles of the closed loop system (*?*) need to be in order to satisfy the system requirements."
   ]
  },
  {
   "cell_type": "code",
   "execution_count": 6,
   "metadata": {},
   "outputs": [
    {
     "data": {
      "image/png": "[encoded data removed]",
      "text/plain": [
       "<Figure size 432x288 with 1 Axes>"
      ]
     },
     "metadata": {
      "needs_background": "light"
     },
     "output_type": "display_data"
    }
   ],
   "source": [
    "from matplotlib.pyplot import *\n",
    "\n",
    "zeta = 0.46\n",
    "w_n = 2.44e-3\n",
    "Re = -zeta*w_n\n",
    "Im = w_n\n",
    "\n",
    "plot([Re,Re],[Im,-Im],'rx')\n",
    "axis([-2e-3, 2.5e-4, -5e-3, 5e-3])\n",
    "axhline(0,lw=0.5,c='k') # x = 0\n",
    "axvline(0,lw=0.5,c='k') # y = 0\n",
    "xticks(rotation=30)\n",
    "show()"
   ]
  },
  {
   "cell_type": "markdown",
   "metadata": {},
   "source": [
    "Now let's take a look at how the system would behave if we used a simple gain (P) controller. That will show us whether we actually need a more complex controller to meet our design requirements. We'll plot the root locus of a feedback system consisting of that controller, $K_p$, inline with the plant. The closed loop transfer function (CLTF) will be as follows:\n",
    "\n",
    "$$H_p(s)=\\frac{K_pP(s)}{1+K_pP(s)}$$\n",
    "\n",
    "The root locus diagram is a plot of how the poles (*why not also the zeroes?*) (*what does knowing the location of the poles tell us?*) of the CLTF vary as K varies. In order to find those poles, we set the denominator of $H_p(s)$ equal to zero. Then we plot the solution ($s$) to that characteristic equation, $1+K_pP(s)=0$, in the Re-Im plane as $K_p$ varies from 0 to $\\infty$. (*why do we say the plant is 1/s, leaving out the K_P.K_L?*)"
   ]
  },
  {
   "cell_type": "code",
   "execution_count": 37,
   "metadata": {},
   "outputs": [
    {
     "data": {
      "text/plain": [
       "[<matplotlib.lines.Line2D at 0x7feb7a7a1e20>]"
      ]
     },
     "execution_count": 37,
     "metadata": {},
     "output_type": "execute_result"
    },
    {
     "data": {
      "image/png": "[encoded data removed]",
      "text/plain": [
       "<Figure size 432x288 with 1 Axes>"
      ]
     },
     "metadata": {
      "needs_background": "light"
     },
     "output_type": "display_data"
    }
   ],
   "source": [
    "import control\n",
    "\n",
    "s = control.TransferFunction.s\n",
    "P = K_P*K_L/s\n",
    "rlist, klist = control.root_locus(P,grid=False,Plot=False,kvect=np.linspace(0, 100, num=1000))\n",
    "plot(rlist,np.linspace(0,0,num=rlist.size),'r')"
   ]
  },
  {
   "cell_type": "markdown",
   "metadata": {},
   "source": [
    "OR (interesting!) \"A root locus diagram is a plot that shows how the eigenvalues of a linear (or linearized) system change as a function of a single parameter...\"[*](https://www.cds.caltech.edu/~murray/amwiki/index.php/Root_Locus_Diagram)\n",
    "\n",
    "The x marks the one open loop pole of the system, which is where $K_p=0$ (*0•P(s)=0, how does that work?*). Stated differently, x is at the value of $s$ that causes $P(s)=\\frac{K_L K_P}{s}$ to go to infinity. [Here is a video](https://www.youtube.com/watch?v=LYd2D8NqLOc) that explains why the root locus of the closed loop transfer function $H_p(s)$ terminates at the poles (and zeroes) of the open loop transfer function $P(s)$.\n",
    "\n",
    "Because we want to respond to both level and cumulative effect of the CO2, let's try a PI controller. *(actually it might be a PD controller, since we want to respond to high rates with bright lights, but let's try Garbini's suggestion for now.)\n",
    "\n",
    "The tuning constants depend on the response characteristics of the complete loop external to the controller, so we need to derive them.\n",
    "\n",
    "In time, the PID controller will be as follows.\n",
    "\n",
    "$$u(t)=K_pe(t)+K_i\\int_0^t{e(t')dt'}+K_d\\frac{de(t)}{dt}$$\n",
    "\n",
    "Since we are building a PI controller, $K_d=0$. Taking a [Laplace transform](https://tutorial.math.lamar.edu/classes/de/laplace_table.aspx), we get\n",
    "\n",
    "$$U(s) = K_pE(s)+K_i\\frac{E(s)}{s}$$\n",
    "\n",
    "so $$C(s) = \\frac{U(s)}{E(s)} = K_p+\\frac{K_i}{s}$$\n",
    "\n",
    "### Determining the gains\n",
    "\n",
    "\n",
    "The solutions, or the roots, of the characteristic equation are the poles of the closed loop system. when k=0, the solutions of the char. eqn. are the poles of the plant"
   ]
  },
  {
   "cell_type": "markdown",
   "metadata": {},
   "source": [
    "which design method to use?\n",
    "- [Root locus design in Python](https://digital.library.txstate.edu/handle/10877/11938)\n",
    "\n",
    "*next*\n",
    "- understand fourier transform\n",
    "- controller design\n",
    "    - do we need lead-lag? (\"Situations may occur where there are excessive delays: the measurement of the process value is delayed, or the control action does not apply quickly enough.\")\n",
    "- understand the relationship between the poles and eigenvalues\n",
    "- which design techniques could I have used besides root locus?"
   ]
  },
  {
   "cell_type": "markdown",
   "metadata": {},
   "source": [
    "## Complete feedback loop\n",
    "The closed loop model is almost complete. We only need to add a disturbance in CO2 rate to represent the rate that CO2 will be added to the ambient environment by a human or another process. This results in the following closed loop system.\n",
    "\n",
    "![]()"
   ]
  },
  {
   "cell_type": "code",
   "execution_count": null,
   "metadata": {},
   "outputs": [],
   "source": []
  }
 ],
 "metadata": {
  "kernelspec": {
   "display_name": "Python [conda env:controls] *",
   "language": "python",
   "name": "conda-env-controls-py"
  },
  "language_info": {
   "codemirror_mode": {
    "name": "ipython",
    "version": 3
   },
   "file_extension": ".py",
   "mimetype": "text/x-python",
   "name": "python",
   "nbconvert_exporter": "python",
   "pygments_lexer": "ipython3",
   "version": "3.8.5"
  }
 },
 "nbformat": 4,
 "nbformat_minor": 4
}
