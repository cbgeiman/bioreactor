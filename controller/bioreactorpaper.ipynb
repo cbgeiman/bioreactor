{
 "cells": [
  {
   "cell_type": "markdown",
   "metadata": {},
   "source": [
    "**Abstract**\n",
    "\n",
    "TBC\n",
    "\n",
    "# Introduction\n",
    "\n",
    "- mention what is a safe level of CO2 (refer to NYU and Harvard papers)\n",
    "\n",
    "## Photosynthesis theory\n",
    "- this is the crux of the paper: You can turn up the light and the photosynthesis rate increases (and bonus: it's linear)\n",
    "\n",
    "## Control theory\n",
    "- Basic closed loop feedback system\n",
    "\n",
    "## *more background*"
   ]
  },
  {
   "cell_type": "markdown",
   "metadata": {},
   "source": [
    "# Materials and Methods\n"
   ]
  }
 ],
 "metadata": {
  "kernelspec": {
   "display_name": "Python [conda env:engr] *",
   "language": "python",
   "name": "conda-env-engr-py"
  },
  "language_info": {
   "codemirror_mode": {
    "name": "ipython",
    "version": 3
   },
   "file_extension": ".py",
   "mimetype": "text/x-python",
   "name": "python",
   "nbconvert_exporter": "python",
   "pygments_lexer": "ipython3",
   "version": "3.8.5"
  }
 },
 "nbformat": 4,
 "nbformat_minor": 4
}
