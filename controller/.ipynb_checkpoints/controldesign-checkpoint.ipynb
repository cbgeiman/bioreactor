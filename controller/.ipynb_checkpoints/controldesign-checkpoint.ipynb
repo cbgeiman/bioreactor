{
 "cells": [
  {
   "cell_type": "markdown",
   "metadata": {},
   "source": [
    "# Bioreactor feedback control design\n",
    "<div class=\"alert alert-block alert-warning\">\n",
    "    <b>Warning:</b> Some quotes taken from Wikipedia pages on <a href=\"https://en.wikipedia.org/wiki/Control_theory\">control theory</a> and <a href=\"https://en.wikipedia.org/wiki/PID_controller\">PID control</a> without attribution, do not publish as is.</div>\n",
    "\n",
    "\n",
    "**Control variable ($u(t)$)**: LED panel voltage.\n",
    "\n",
    "**Process variable (PV)**: carbon dioxide concentration of ambient environment, measured with a Senseair S8/LP8 sensor.\n",
    "\n",
    "**Set point (SP)**: 800 ppm.\n",
    "\n",
    "$SP-PV$ is the error signal, which is applied as feedback to generate a control action, turning the lights up or down, in order to bring the $PV$ closer to the $SP$.\n",
    "\n",
    "The following is a generic closed loop controller. Here, $SP-PV = e(t)$\n",
    "\n",
    "![](https://upload.wikimedia.org/wikipedia/commons/9/90/Simple_feedback_control_loop2.svg)\n",
    "\n",
    "The closed loop transfer function is as follows.\n",
    "\n",
    "$$H(s)=\\frac{P(s)C(s)}{1+P(s)C(s)}$$\n",
    "\n",
    "where $Y(s)=H(s)R(s)$\n",
    "\n",
    "## Finding $P(s)$\n",
    "### Determining the equation\n",
    "In our case, the plant is found via system identification, assuming all variables except light intensity and photosynthesis rate are held constant. A voltage is applied to the lights, which produces a light intensity that is applied to the algae, which produces a certain photosynthesis rate. The Blackman equation for photosynthesis indicates that the photosynthesis response to light intensity will be linear, as long as the light intensity and CO2 concentration are within a range that does not saturate the photosynthesis rate. \n",
    "\n",
    "![](https://www.biology-pages.info/R/RateLimits.jpg)\n",
    "\n",
    "Because photosynthesis rate is equivalent with CO2 rate, the result can then be integrated to determine the resulting CO2 concentration. The plant, which is also the open loop transfer function, is represented as follows:\n",
    "\n",
    "$$P(s)=\\frac{Y(s)}{U(s)}=\\frac{K_L K_P}{s}$$\n",
    "\n",
    "Think of the plant as the dynamics of the actuator, the lights ($K_L$), in series with the dynamics of the the algae ($\\frac{K_P}{s}$). *is it appropriate to say that the integrator is part of the algae dynamics? I kind of don't think so, it happens after the disturbance.* \n",
    "\n",
    "[image of the control system with reference value and disturbance]\n",
    "\n",
    "### Determining the gains\n",
    "From system identification experiments:"
   ]
  },
  {
   "cell_type": "code",
   "execution_count": 243,
   "metadata": {},
   "outputs": [],
   "source": [
    "K_L = 41.40; # lux / % duty cycle\n",
    "K_P = 0.3493e-4; # ppm / lux*s"
   ]
  },
  {
   "cell_type": "markdown",
   "metadata": {},
   "source": [
    "## Finding $C(s)$\n",
    "### Determining the equation\n",
    "In order to respond to elevated levels and rates of CO2 without using too much energy (that is, without keeping the lights on high all the time), we can design a PID controller.\n",
    "\n",
    "<div class=\"alert alert-block alert-info\">\n",
    "<b>What do the P, I, and D terms mean?</b>\n",
    "    \n",
    "*Term P* is proportional to the current value of the $SP-PV$ error. So, if the error is large the control output, the voltage, will be proportionately large, leading to bright lights and a high photosynthesis rate.\n",
    "\n",
    "*Term I* accounts for past values of the $SP−PV$ error and integrates them over time to produce the I term. For example, if there is a residual $SP−PV$ error after the application of proportional control, the integral term seeks to eliminate the residual error by adding a control effect due to the historic cumulative value of the error.\n",
    "\n",
    "*Term D* is a best estimate of the future trend of the $SP−PV$ error, based on its current rate of change. The more rapid the change, the greater the controlling or damping effect. So, if the CO2 level is increasing rapidly, this term will result in a larger voltage command to the lights.\n",
    "</div>\n",
    "\n",
    "Let's first specify a couple system requirements in order to know which damping ratio and natural frequency we should be aiming for the system to have. The CO2 level should get within 2% of the reference in an hour and overshoot the reference by no more than 20%, so settling time $T_s=3600s$ and percent overhoot $\\%OS=20\\%$. Thus:\n",
    "\n",
    "$$\\zeta = \\frac{-ln(\\%OS/100)}{\\sqrt{\\pi^2+ln(\\%OS/100)}} = 0.46$$\n",
    "and $$\\omega_n=\\frac{4}{\\zeta T_s}=2.44\\times10^{-3}s^{-1}$$\n",
    "\n",
    "Now we can plot where the poles of the closed loop system (*?*) need to be in order to satisfy the system requirements. (*make sure the system [behaves as second order](https://youtu.be/WLBszzT0jp4?list=PLUMWjy5jgHK3-ca6GP6PL0AgcNGHqn33f&t=610) so this applies*)"
   ]
  },
  {
   "cell_type": "code",
   "execution_count": 244,
   "metadata": {},
   "outputs": [
    {
     "data": {
      "image/png": "[encoded data removed]",
      "text/plain": [
       "<Figure size 432x288 with 1 Axes>"
      ]
     },
     "metadata": {
      "needs_background": "light"
     },
     "output_type": "display_data"
    }
   ],
   "source": [
    "import matplotlib.pyplot as pp\n",
    "import numpy as np\n",
    "%matplotlib inline\n",
    "\n",
    "zeta = 0.46\n",
    "w_n = 2.44e-3\n",
    "Re = -zeta*w_n\n",
    "Im = w_n\n",
    "\n",
    "fig, ax = pp.subplots()\n",
    "ax.plot([Re,Re],[Im,-Im],'rx')\n",
    "ax.axis([-1e-2, 1e-3, -4e-3, 4e-3])\n",
    "ax.set_xlabel('$\\sigma$ (Re)')\n",
    "ax.set_ylabel('$j\\omega$ (Im)')\n",
    "ax.axhline(0,lw=0.5,c='k') # x = 0\n",
    "ax.axvline(0,lw=0.5,c='k') # y = 0\n",
    "pp.show()"
   ]
  },
  {
   "cell_type": "markdown",
   "metadata": {},
   "source": [
    "Now let's take a look at how the system would behave if we used a simple gain (P) controller. That will show us whether we actually need a more complex controller to meet our design requirements. We'll plot the root locus of a feedback system consisting of that controller, $K_p$, inline with the plant. The OLTF of the P compensated system is\n",
    "\n",
    "$$C(s)P(s)=K_p\\frac{1.446\\times10^{-3}}{s}$$\n",
    "\n",
    "which means that the CLTF is $$H_p(s)= \\frac{K_p\\frac{1.446\\times10^{-3}}{s}}{1+K_p\\frac{1.446\\times10^{-3}}{s}}$$\n",
    "\n",
    "The root locus diagram is a plot of how the poles (*why not also the zeroes?*) (*what does knowing the location of the poles tell us?*) of the CLTF vary as K varies. In order to find those poles, we set the denominator of $H_p(s)$ equal to zero. Then we plot the solution ($s$) to that characteristic equation, $1+K_pP(s)=0$, in the s-plane as $K_p$ varies from 0 to $\\infty$. (*do we say the plant is 1/s, leaving out the K_•K_L?*)"
   ]
  },
  {
   "cell_type": "code",
   "execution_count": 245,
   "metadata": {},
   "outputs": [
    {
     "name": "stdout",
     "output_type": "stream",
     "text": [
      "P compensated OLTF:\n",
      " \n",
      "0.001446\n",
      "--------\n",
      "    s\n",
      "\n"
     ]
    },
    {
     "data": {
      "image/png": "[encoded data removed]",
      "text/plain": [
       "<Figure size 432x288 with 1 Axes>"
      ]
     },
     "execution_count": 245,
     "metadata": {},
     "output_type": "execute_result"
    }
   ],
   "source": [
    "import control\n",
    "\n",
    "s = control.TransferFunction.s\n",
    "P = K_P*K_L/s\n",
    "print('P compensated OLTF:\\n',P) # gain K_p not shown\n",
    "\n",
    "rlist, klist = control.root_locus(P,Plot=False)\n",
    "sigma = [x.real for x in rlist]\n",
    "jw = [x.imag for x in rlist]\n",
    "ax.plot(sigma,jw,'c',)\n",
    "ax.plot(rlist[0],0,'cx')\n",
    "fig"
   ]
  },
  {
   "cell_type": "markdown",
   "metadata": {},
   "source": [
    "*OR (interesting!) \"A root locus diagram is a plot that shows how the eigenvalues of a linear (or linearized) system change as a function of a single parameter...\"[*](https://www.cds.caltech.edu/~murray/amwiki/index.php/Root_Locus_Diagram)*\n",
    "\n",
    "The x marks the one open loop pole of the system, which is where $K_p=0$ (*0•P(s)=0, how does that work?*). Stated differently, x is at the value of $s$ that causes $P(s)=\\frac{K_L K_P}{s}$ to go to infinity. [Here is a video](https://www.youtube.com/watch?v=LYd2D8NqLOc) that explains why the root locus of the closed loop transfer function $H_p(s)$ terminates at the poles (and zeroes) of the open loop transfer function $P(s)$.\n",
    "\n",
    "The pole will move along the blue line as $K_p$ varies, but will never reach either red x, which indicates that we need something more than a proportional controller. This makes sense, because our open loop transfer function is only first order. To achieve two poles, we need to increase the order of the OLTF denominator.\n",
    "\n",
    "Because we want to respond to both level and cumulative effect of the CO2, let's use a PI controller to increase the denominator order. *(actually it might be a PD controller, since we want to respond to high rates with bright lights, but let's try Garbini's suggestion for now.)* (*intuition/explanation why adding an I will make the curve split*) (*does adding I improve disturbance handling?*)\n",
    "\n",
    "In time, a PID controller will be as follows.\n",
    "\n",
    "$$u(t)=K_pe(t)+K_i\\int_0^t{e(\\tau)d\\tau}+K_d\\frac{de(t)}{dt}$$\n",
    "\n",
    "Since we are building a PI controller, $K_d=0$. Taking a [Laplace transform](https://tutorial.math.lamar.edu/classes/de/laplace_table.aspx) to transform the controller to the ~frequency~ **s-**domain (*why not frequency domain?*), we get\n",
    "\n",
    "$$U(s) = K_pE(s)+K_i\\frac{E(s)}{s}$$\n",
    "\n",
    "so $$C(s) = \\frac{U(s)}{E(s)} = K_p+\\frac{K_i}{s} = K_p\\frac{\\left(s+\\frac{K_i}{K_p}\\right)}{s}$$\n",
    "\n",
    "So, as the equation indicates, a PI controller adds a zero at $-\\frac{K_i}{K_p}$ and a pole at the origin. Note that the final form above is in *zpk format*. The open loop transfer function of the PI compensated system looks like this:\n",
    "\n",
    "$$C(s)P(s)=K_p\\frac{\\left(s+\\frac{K_i}{K_p}\\right)}{s}\\frac{1.446\\times10^{-3}}{s}$$\n",
    "\n",
    "### Determining the gains\n",
    "Now we need to choose values for $K_p$ and $K_i$. Or, another way to think about it that we will move the location of the zero, in addition to changing the common gain $K_p$.[*](https://youtu.be/Hk6YBO_A_PU?t=490) Let's try setting the zero first in order to shape the root locus, then we'll change $K_p$ to put the poles where we want them on the root locus. *(Is there a way to figure out mathematically what $-\\frac{K_i}{K_p}$ should be?*)"
   ]
  },
  {
   "cell_type": "code",
   "execution_count": 246,
   "metadata": {
    "scrolled": false
   },
   "outputs": [
    {
     "data": {
      "image/png": "[encoded data removed]",
      "text/plain": [
       "<Figure size 432x288 with 1 Axes>"
      ]
     },
     "metadata": {
      "needs_background": "light"
     },
     "output_type": "display_data"
    }
   ],
   "source": [
    "z = -40/11999 # -K_i/K_p; why is this so dumb?\n",
    "C = (s-z)/s\n",
    "sys = control.series(P,C)\n",
    "\n",
    "fig, ax = pp.subplots()\n",
    "ax.axis([-1e-2, 1e-3, -4e-3, 4e-3])\n",
    "ax.set_xlabel('$\\sigma$ (Re)')\n",
    "ax.set_ylabel('$j\\omega$ (Im)')\n",
    "ax.axhline(0,lw=0.5,c='k') # x = 0\n",
    "ax.axvline(0,lw=0.5,c='k') # y = 0\n",
    "rlist, klist = control.root_locus(sys,Plot=False)\n",
    "sigma = [x.real for x in rlist]\n",
    "jw = [x.imag for x in rlist]\n",
    "ax.plot(sigma,jw,'c',)\n",
    "ax.plot([0,0.00005],[0,0],'cx') # plot origin poles slightly offset for visibility\n",
    "ax.plot(z,0,'co',fillstyle='none')\n",
    "ax.plot([Re,Re],[Im,-Im],'rx')\n",
    "pp.show()"
   ]
  },
  {
   "attachments": {},
   "cell_type": "markdown",
   "metadata": {},
   "source": [
    "A $-\\frac{K_i}{K_p}$ ratio of about $-\\frac{1}{300}$ produces a root locus that contains the two open loop poles we're trying to achieve. We could also say that we put a zero at $-\\frac{1}{300}$ and a pole at the origin. Now we just need to find the value of $K_p$ that will result in the desired open loop poles, which we will do using the magnitude criterion:\n",
    "\n",
    "$$|KG(s)H(s)|=1$$\n",
    "so\n",
    "$$K_p = \\frac{1}{|C(s)P(s)|} = \\frac{\\Pi\\textrm{ pole lengths}}{\\Pi\\textrm{ zero lengths}}$$\n",
    "\n",
    "*(from Nise eqn. 8.14 and 8.21)*\n",
    "\n",
    "Explained graphically:"
   ]
  },
  {
   "cell_type": "code",
   "execution_count": 247,
   "metadata": {},
   "outputs": [
    {
     "data": {
      "image/png": "[encoded data removed]",
      "text/plain": [
       "<Figure size 432x288 with 1 Axes>"
      ]
     },
     "execution_count": 247,
     "metadata": {},
     "output_type": "execute_result"
    }
   ],
   "source": [
    "x1 = [z,Re]\n",
    "x2 = [0,Re]\n",
    "y = [0,Im]\n",
    "ax.plot(x1,y,'k--',label='A')\n",
    "ax.plot(x2,y,'k--',label='B,C')\n",
    "ax.text(z+.0008,Im/2+.0002,'A')\n",
    "ax.text(Re/2-.00075,Im/2-.00025,'B,C')\n",
    "fig"
   ]
  },
  {
   "cell_type": "code",
   "execution_count": 248,
   "metadata": {},
   "outputs": [
    {
     "name": "stdout",
     "output_type": "stream",
     "text": [
      "K_p = 1.6312616653839402\n",
      "K_i = 0.005437992050617352\n"
     ]
    }
   ],
   "source": [
    "mag_A = np.sqrt((x1[1]-x1[0])**2+(y[1]-y[0])**2)\n",
    "mag_BC = np.sqrt((x2[1]-x2[0])**2+(y[1]-y[0])**2)\n",
    "K_p = 2*mag_BC/mag_A\n",
    "K_i = -z*K_p\n",
    "print('K_p =',K_p)\n",
    "print('K_i =',K_i)"
   ]
  },
  {
   "cell_type": "code",
   "execution_count": 249,
   "metadata": {},
   "outputs": [
    {
     "name": "stdout",
     "output_type": "stream",
     "text": [
      "PI compensated OLTF:\n",
      " \n",
      "0.002359 s + 7.864e-06\n",
      "----------------------\n",
      "          s^2\n",
      "\n"
     ]
    }
   ],
   "source": [
    "C = K_p+K_i/s\n",
    "sys = C*P\n",
    "print('PI compensated OLTF:\\n',sys)"
   ]
  },
  {
   "cell_type": "markdown",
   "metadata": {},
   "source": [
    "*is it coincidence that K_p/K_i is pretty much exactly 300? probably not. why is it?*"
   ]
  },
  {
   "cell_type": "markdown",
   "metadata": {},
   "source": [
    "## Complete feedback loop\n",
    "The closed loop model is almost complete. We only need to add a disturbance in CO2 rate to represent the rate that CO2 will be added to the ambient environment by a human or another process. This results in the following closed loop system.\n",
    "\n",
    "![]()"
   ]
  },
  {
   "cell_type": "markdown",
   "metadata": {},
   "source": [
    "---\n",
    "## A comparison of the types of compensators and controllers\n",
    "- [what are lead lag compensators?](https://www.youtube.com/watch?v=xLhvil5sDcU)\n",
    "\n",
    "### Lead compensation\n",
    "Lead compensators can be used to move the dominant poles (the ones that are responsible for the majority of the response) to the left in order to increase system stability (*what does that mean?*). A lead compensator adds a pole and a zero, with the pole being the smaller of the two. As long as the added pole is sufficiently small the system still behaves more or less like a second order system, which means we can still use damping ratio and natural frequency of the second order charactistic polynomial (remember, the bottom of the compensated OLTF) to meet system requirements. For example:"
   ]
  },
  {
   "cell_type": "code",
   "execution_count": 250,
   "metadata": {},
   "outputs": [
    {
     "data": {
      "image/png": "[encoded data removed]",
      "text/plain": [
       "<Figure size 432x288 with 1 Axes>"
      ]
     },
     "metadata": {
      "needs_background": "light"
     },
     "output_type": "display_data"
    }
   ],
   "source": [
    "G = 1/((s+1)*(s+2)) # plant\n",
    "z_l = -3\n",
    "p_l = -4\n",
    "C_lead = (s-z_l)/(s-p_l) # lead compensator\n",
    "r, k = control.root_locus(G*C_lead,grid=False)"
   ]
  },
  {
   "cell_type": "markdown",
   "metadata": {},
   "source": [
    "Here's [a longer example](https://www.youtube.com/watch?v=NMpmb0ihoFo&list=PLUMWjy5jgHK3-ca6GP6PL0AgcNGHqn33f&index=4) of how a lead compensator can be designed with root locus."
   ]
  },
  {
   "cell_type": "markdown",
   "metadata": {},
   "source": [
    "### Lag compensation\n",
    "Lag compensators can be used move the dominant poles to the right, but that's not usually the point. Instead lag compensators are typically used to improve steady state error, while moving the root locus as little as possible. An example is given [here](https://youtu.be/vXwOzDs5xKY?list=PLUMWjy5jgHK3-ca6GP6PL0AgcNGHqn33f&t=165).\n",
    "\n",
    "*why would we want a PID vs. lead/lag compensator?*\n",
    "\n",
    "### PID compensation\n"
   ]
  },
  {
   "cell_type": "markdown",
   "metadata": {},
   "source": [
    "## Domains\n",
    "[Good explanation here](https://youtu.be/WLBszzT0jp4?list=PLUMWjy5jgHK3-ca6GP6PL0AgcNGHqn33f&t=476)\n",
    "\n",
    "Time domain:\n",
    "\n",
    "Frequency domain:\n",
    "- Bandwidth\n",
    "- Gain margin\n",
    "- Phase margin\n",
    "- etc.\n",
    "\n",
    "S-domain:\n",
    "- Pole/zero locations"
   ]
  },
  {
   "cell_type": "markdown",
   "metadata": {},
   "source": [
    "---\n",
    "which design method to use?`\n",
    "- [Root locus design in Python](https://digital.library.txstate.edu/handle/10877/11938)\n",
    "\n",
    "*next*\n",
    "- understand fourier and laplace transform\n",
    "    - https://electronics.stackexchange.com/questions/86489/relation-and-difference-between-fourier-laplace-and-z-transforms\n",
    "    - https://www.youtube.com/watch?v=7UvtU75NXTg\n",
    "- controller design\n",
    "    - do we need lead-lag? (\"Situations may occur where there are excessive delays: the measurement of the process value is delayed, or the control action does not apply quickly enough.\")\n",
    "- understand the relationship between the poles and eigenvalues\n",
    "- which design techniques could I have used besides root locus?\n",
    "- add saturation: https://www.youtube.com/watch?v=6ivdfKfGp4k\n",
    "- calculate steady-state error of the compensated system: https://www.youtube.com/watch?v=vXwOzDs5xKY&list=PLUMWjy5jgHK3-ca6GP6PL0AgcNGHqn33f&index=5 (very helpful)\n",
    "\n",
    "*helpful links*\n",
    "- https://stackoverflow.com/questions/47053517/is-it-possible-to-generate-proper-root-locus-plots-with-python-3\n",
    "- [Controllers and compensators](https://en.wikibooks.org/wiki/Control_Systems/Controllers_and_Compensators)\n",
    "- [Discussion of the difference between controllers and compensators](https://www.researchgate.net/post/Controller-Vs-Compensator)\n",
    "- [Root locus method video series](https://www.youtube.com/playlist?list=PLUMWjy5jgHK3-ca6GP6PL0AgcNGHqn33f)"
   ]
  },
  {
   "cell_type": "markdown",
   "metadata": {},
   "source": [
    "The solutions, or the roots, of the characteristic equation are the poles of the closed loop system. when k=0, the solutions of the char. eqn. are the poles of the plant"
   ]
  }
 ],
 "metadata": {
  "kernelspec": {
   "display_name": "Python [conda env:controls] *",
   "language": "python",
   "name": "conda-env-controls-py"
  },
  "language_info": {
   "codemirror_mode": {
    "name": "ipython",
    "version": 3
   },
   "file_extension": ".py",
   "mimetype": "text/x-python",
   "name": "python",
   "nbconvert_exporter": "python",
   "pygments_lexer": "ipython3",
   "version": "3.8.5"
  }
 },
 "nbformat": 4,
 "nbformat_minor": 4
}
