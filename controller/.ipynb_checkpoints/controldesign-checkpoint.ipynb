{
 "cells": [
  {
   "cell_type": "markdown",
   "metadata": {},
   "source": [
    "# Bioreactor feedback control design\n",
    "<div class=\"alert alert-block alert-warning\">\n",
    "    <b>Warning:</b> Some quotes taken from Wikipedia pages on <a href=\"https://en.wikipedia.org/wiki/Control_theory\">control theory</a> and <a href=\"https://en.wikipedia.org/wiki/PID_controller\">PID control</a> without attribution, do not publish as is.</div>\n",
    "\n",
    "**CONTROLLER DESIGN ROOT LOCUS FIGURES ARE MESSED UP BECAUSE I WAS TREATING $K_P$ AS IF IT WAS GREATER THAN ZERO DURING THE CONTROLLER DESIGN, BUT IT IS LESS THAN ZERO. FIX...**\n",
    "\n",
    "**ALSO SOMETIMES P = K_L K_P / s... ALSO FIX**\n",
    "\n",
    "**Control variable ($u(t)$)**: LED panel PWM signal duty cycle.\n",
    "\n",
    "**Process variable ($y(t)$)**: carbon dioxide concentration of ambient environment, measured with a Senseair S8/LP8 sensor.\n",
    "\n",
    "**Set point ($r$)**: 800 ppm.\n",
    "\n",
    "$e(t)=y(t)-r$ is the error signal, which is applied as feedback to generate a control action, turning the lights up or down, in order to bring the process variable closer to the set point.\n",
    "\n",
    "The following is a fairly basic closed loop controller.\n",
    "\n",
    "![](basic_loop.png)\n",
    "\n",
    "The closed loop transfer function is as follows.\n",
    "\n",
    "$$H(s)=\\frac{P(s)C(s)}{1-P(s)C(s)}$$\n",
    "\n",
    "where $Y(s)=H(s)R$. Note the negative in the denominator, which comes from the addition of $y(t)$ at the summing junction."
   ]
  },
  {
   "cell_type": "code",
   "execution_count": 27,
   "metadata": {},
   "outputs": [],
   "source": [
    "import control\n",
    "import matplotlib.pyplot as pp\n",
    "import numpy as np\n",
    "%matplotlib inline"
   ]
  },
  {
   "cell_type": "markdown",
   "metadata": {},
   "source": [
    "## Finding the plant $P(s)$\n",
    "### Determining the equation\n",
    "In our case, the plant is found via system identification, assuming all variables except light intensity and photosynthesis rate are held constant. A voltage is applied to the lights, which produces a light intensity that is applied to the algae, which produces a certain photosynthesis rate. The Blackman equation for photosynthesis indicates that the photosynthesis response to light intensity will be linear, as long as the light intensity and CO2 concentration are within a range that does not saturate the photosynthesis rate. \n",
    "\n",
    "![](https://www.biology-pages.info/R/RateLimits.jpg)\n",
    "\n",
    "Because photosynthesis rate is equivalent with CO2 rate, the result can then be integrated to determine the resulting CO2 concentration. The plant, which is also the open loop transfer function, is represented as follows:\n",
    "\n",
    "$$P(s)=\\frac{Y(s)}{U(s)}=\\frac{K_L K_P}{s}$$\n",
    "\n",
    "Think of the plant as the dynamics of the actuator, the lights ($K_L$), in series with the dynamics of the the algae ($\\frac{K_P}{s}$). *is it appropriate to say that the integrator is part of the algae dynamics? I kind of don't think so, it happens after the disturbance.* \n",
    "\n",
    "[image of the control system with reference value and disturbance]\n",
    "\n",
    "### Determining the gains\n",
    "From system identification experiments:"
   ]
  },
  {
   "cell_type": "code",
   "execution_count": 28,
   "metadata": {},
   "outputs": [],
   "source": [
    "K_L = 41.40; # lux / % duty cycle\n",
    "K_P = -0.3493e-4; # ppm / lux*s"
   ]
  },
  {
   "cell_type": "markdown",
   "metadata": {},
   "source": [
    "## Designing a proportional controller $C(s)$"
   ]
  },
  {
   "cell_type": "markdown",
   "metadata": {},
   "source": [
    "Let's design a controller that will respond in the following way, where $U = E*C$ is the PWM duty cycle. \n",
    "\n",
    "$$U = \\begin{cases} 0, & \\mbox{if } y < 800ppm \\\\ \\mbox{between }0\\mbox{ and }100, & \\mbox{if } 800ppm < y < 2800 ppm \\\\ 100, & \\mbox{if } y > 2800ppm\\end{cases}$$\n",
    "\n",
    "The upper and lower saturation bounds will occur because the PWM duty cycle is unable to get above 100 or below 0; that is, the lights have a maximum and minimum brightness. The linear variation from 10 to 100 in the range of CO2 concentrations will occur through proportional control. So, $C=K_{prop}$. When $y(t) = 800 ppm$, $e(t)=0ppm$, so $0*K_{prop}= 0$. When $y(t)=2800ppm$, $e(t)=2000ppm$, so $2000*K_{prop}=100\\implies K_{prop}=0.05\\frac{\\%}{ppm}$.\n",
    "\n"
   ]
  },
  {
   "cell_type": "code",
   "execution_count": 29,
   "metadata": {},
   "outputs": [
    {
     "name": "stdout",
     "output_type": "stream",
     "text": [
      "P compensated OLTF:\n",
      " \n",
      "-7.231e-05\n",
      "----------\n",
      "    s\n",
      "\n"
     ]
    }
   ],
   "source": [
    "s = control.TransferFunction.s\n",
    "C_prop = 0.05\n",
    "P = K_P*K_L\n",
    "print('P compensated OLTF:\\n',(1/s)*C_prop*P)"
   ]
  },
  {
   "cell_type": "markdown",
   "metadata": {},
   "source": [
    "Now we calculate the closed loop transfer function, which allows us to determine the system response to a disturbance input. Since $\\delta(s)$ is our desired input, we rearrange the system so that $\\frac{1}{s}$ is in the forward path and $C(s)$, $P(s)$ and $R$ are in the feedback path. So,\n",
    "\n",
    "$$E = \\delta+(Y+R)PC$$\n",
    "\n",
    "$$Y = E*\\frac{1}{s}$$\n",
    "so\n",
    "$$\\delta = (s-PC)Y-PCR$$\n",
    "\n",
    "$$Y = \\frac{\\frac{1}{s}}{1-\\frac{1}{s}PC}\\delta+\\frac{\\frac{1}{s}PC}{1-\\frac{1}{s}PC}R$$\n",
    "\n",
    "$$H_\\delta(s) = \\frac{Y(s)}{\\delta(s)}=\\frac{\\frac{1}{s}}{1-\\frac{1}{s}P(s)C(s)}=\\frac{\\frac{1}{s}}{1-\\frac{1}{s}K_PK_LK_{prop}}$$\n",
    "\n",
    "how to add reference value:\n",
    "- https://youtu.be/toGBpjMZYPI?t=497"
   ]
  },
  {
   "cell_type": "code",
   "execution_count": 30,
   "metadata": {},
   "outputs": [
    {
     "name": "stdout",
     "output_type": "stream",
     "text": [
      "P compensated CLTF:\n",
      " \n",
      "        s\n",
      "-----------------\n",
      "s^2 + 7.231e-05 s\n",
      "\n"
     ]
    }
   ],
   "source": [
    "H_d_prop = (1/s)/(1-(1/s)*C_prop*P)\n",
    "print('P compensated CLTF:\\n',H_d_prop)"
   ]
  },
  {
   "cell_type": "markdown",
   "metadata": {},
   "source": [
    "Let's also calculate the response of the PWM duty cycle, $u(t)$ to the disturbance, using the technique discussed [here](https://youtu.be/toGBpjMZYPI?t=497). The loop function, which will be the denominator, is $1-\\frac{1}{s}K_PK_LK_{prop}$, and the forward path from $\\delta$ to $u$, which will be the numerator, is $\\frac{1}{s}C(s)$. So,\n",
    "\n",
    "$$H_u(s) =\\frac{U(s)}{\\delta(s)}= \\frac{\\frac{1}{s}C(s)}{1-\\frac{1}{s}P(s)C(s)}$$\n",
    "\n",
    "Let's plot the response of $u(t)$ and $y(t)$ to a step disturbance $\\delta(t)$."
   ]
  },
  {
   "cell_type": "code",
   "execution_count": 31,
   "metadata": {},
   "outputs": [
    {
     "data": {
      "image/png": "[encoded data removed]",
      "text/plain": [
       "<Figure size 432x288 with 3 Axes>"
      ]
     },
     "metadata": {
      "needs_background": "light"
     },
     "output_type": "display_data"
    }
   ],
   "source": [
    "H_u_prop = (1/s)*C_prop/(1-(1/s)*C_prop*P)\n",
    "\n",
    "t_max = 3600\n",
    "d = np.full(3600,1) # ambient CO2 rate = +1 ppm/s\n",
    "d[0] = 0\n",
    "t = np.arange(0,3600)\n",
    "\n",
    "[t_u,u,x_u] = control.forced_response(H_u_prop,T=t,U=d) \n",
    "[t_y,y,x_y] = control.forced_response(H_d_prop,T=t,U=d)\n",
    "# x: \"time evolution of the state vector\" what is the state vector? by examination, x_y=[-y,u]\n",
    "\n",
    "fig, ax = pp.subplots(nrows=3, ncols=1)\n",
    "\n",
    "ax[0].plot(t,d)\n",
    "ax[0].set_ylabel('$\\delta$ $(ppm/s)$')\n",
    "ax[0].set_xticklabels([])\n",
    "\n",
    "ax[1].plot(t_u,u)\n",
    "ax[1].set_ylabel('$u$ $(\\%)$')\n",
    "ax[1].set_xticklabels([])\n",
    "\n",
    "ax[2].plot(t_y,y+800)\n",
    "ax[2].set_ylabel('$y$ $(ppm)$')\n",
    "ax[2].set_xlabel('t (s)')\n",
    "\n",
    "pp.show()"
   ]
  },
  {
   "cell_type": "markdown",
   "metadata": {},
   "source": [
    "Notice the added 800 to $y$. This is the set point of the system, $R$."
   ]
  },
  {
   "cell_type": "markdown",
   "metadata": {},
   "source": [
    "## Designing a proportional-integral controller\n",
    "\n",
    "Let's add an integral term to avoid the endless oscillation that the proportional controller produces. For simplicity, let's design it visually. We also need to add saturation, since the percent brightness can't get below zero or above one hundred.\n",
    "\n",
    "The D in the PID controller is large if the slope of y is large. The P is large if y is large. The I is large if the area under y is large."
   ]
  },
  {
   "cell_type": "code",
   "execution_count": 32,
   "metadata": {},
   "outputs": [
    {
     "data": {
      "image/png": "[encoded data removed]",
      "text/plain": [
       "<Figure size 432x288 with 3 Axes>"
      ]
     },
     "metadata": {
      "needs_background": "light"
     },
     "output_type": "display_data"
    }
   ],
   "source": [
    "C_PI = 5 + 0.1/s\n",
    "\n",
    "# good controllers:\n",
    "# C_PI = 5 + 0.1/s\n",
    "\n",
    "H_u_PI = (1/s)*C_PI/(1-(1/s)*C_PI*P)\n",
    "H_d_PI = (1/s)/(1-(1/s)*C_PI*P)\n",
    "\n",
    "t_max = 3600\n",
    "d = np.full(3600,1/12) # ambient CO2 rate = +5 ppm/min\n",
    "d[0] = 0\n",
    "t = np.arange(0,3600)\n",
    "\n",
    "[t_u,u,x_u] = control.forced_response(H_u_PI,T=t,U=d) \n",
    "[t_y,y,x_y] = control.forced_response(H_d_PI,T=t,U=d)\n",
    "# x: \"time evolution of the state vector\" what is the state vector? by examination, x_y=[-y,u]\n",
    "\n",
    "fig, ax = pp.subplots(nrows=3, ncols=1)\n",
    "\n",
    "ax[0].plot(t,d)\n",
    "ax[0].set_ylabel('$\\delta$ $(ppm/s)$')\n",
    "ax[0].set_xticklabels([])\n",
    "\n",
    "ax[1].plot(t_u,u)\n",
    "ax[1].set_ylabel('$u$ $(\\%)$')\n",
    "ax[1].set_xticklabels([])\n",
    "\n",
    "ax[2].plot(t_y,y+800)\n",
    "ax[2].set_ylabel('$y$ $(ppm)$')\n",
    "ax[2].set_xlabel('t (s)')\n",
    "\n",
    "pp.show()"
   ]
  },
  {
   "cell_type": "markdown",
   "metadata": {},
   "source": [
    "A large coefficient of $\\frac{1}{s}$ causes the system to go unstable. Also note that a small coefficient of $s$ would cause the system to go unstable. Also note that the smaller the $K_p$ the more unstable the system, so I bumped it up to a larger value than in the proportional controller section. Now maximum brightness occurs at 1800 ppm."
   ]
  },
  {
   "cell_type": "markdown",
   "metadata": {},
   "source": [
    "- *Add saturation (u is constrained 0-100, and y is constrained >0)*\n",
    "- *Is there a way to increase the maximimum PWM brightness of the LEDs? (Would be nice to have a wider response range, but not critical.)*"
   ]
  },
  {
   "cell_type": "markdown",
   "metadata": {},
   "source": [
    "### Add saturation\n",
    "Based on [this video](https://youtu.be/6ivdfKfGp4k).\n",
    "\n",
    "$$H_\\delta(s) = \\frac{Y(s)}{\\delta(s)}=\\frac{\\frac{1}{s}}{1-\\frac{1}{s}P(s)C(s)}=\\frac{\\frac{1}{s}}{1-\\frac{1}{s}K_LK_PK_p\\frac{\\left(s+\\frac{K_i}{K_p}\\right)}{s}}\\implies \\ddot y-K_LK_PK_p\\dot y-K_LK_PK_iy=\\dot\\delta$$\n",
    "\n",
    "$$x_1 = y \\\\ x_2 = \\dot y$$\n",
    "\n",
    "So the state space model for this system can be written:\n",
    "\n",
    "$$\\begin{aligned}\\dot x_1 &= x_2 \\\\ \\dot x_2 &= \\dot\\delta+K_LK_PK_px_2+K_LK_PK_ix_1\\end{aligned}$$"
   ]
  },
  {
   "cell_type": "code",
   "execution_count": 33,
   "metadata": {},
   "outputs": [],
   "source": [
    "# def dxdt(x,t,K1,K2,d,use_sat=True)\n",
    "#     y = x[0]\n",
    "#     y_dot = x[1]\n",
    "#     e = d + y"
   ]
  },
  {
   "cell_type": "markdown",
   "metadata": {},
   "source": [
    "*Actually I don't have time so let's not and instead we can just keep the response in a non-saturated range.*\n",
    "To be completed later..."
   ]
  },
  {
   "cell_type": "markdown",
   "metadata": {},
   "source": []
  },
  {
   "cell_type": "markdown",
   "metadata": {},
   "source": [
    "## A different method for designing a controller $C(s)$\n",
    "### Determining the equation\n",
    "In order to respond to elevated levels and rates of CO2 without using too much energy (that is, without keeping the lights on high all the time), we can design a PID controller.\n",
    "\n",
    "<div class=\"alert alert-block alert-info\">\n",
    "<b>What do the P, I, and D terms mean?</b>\n",
    "    \n",
    "*Term P* is proportional to the current value of the $SP-PV$ error. So, if the error is large the control output, the voltage, will be proportionately large, leading to bright lights and a high photosynthesis rate.\n",
    "\n",
    "*Term I* accounts for past values of the $SP−PV$ error and integrates them over time to produce the I term. For example, if there is a residual $SP−PV$ error after the application of proportional control, the integral term seeks to eliminate the residual error by adding a control effect due to the historic cumulative value of the error.\n",
    "\n",
    "*Term D* is a best estimate of the future trend of the $SP−PV$ error, based on its current rate of change. The more rapid the change, the greater the controlling or damping effect. So, if the CO2 level is increasing rapidly, this term will result in a larger voltage command to the lights.\n",
    "</div>\n",
    "\n",
    "Let's first specify a couple system requirements in order to know which damping ratio and natural frequency we should be aiming for the system to have. The CO2 level should get within 2% of the reference in an hour and overshoot the reference by no more than 20%, so settling time $T_s=3600s$ and percent overhoot $\\%OS=20\\%$. Thus:\n",
    "\n",
    "$$\\zeta = \\frac{-ln(\\%OS/100)}{\\sqrt{\\pi^2+ln(\\%OS/100)}} = 0.46$$\n",
    "and $$\\omega_n=\\frac{4}{\\zeta T_s}=2.44\\times10^{-3}s^{-1}$$\n",
    "\n",
    "Now we can plot where the poles of the closed loop system (*?*) need to be in order to satisfy the system requirements. (*make sure the system [behaves as second order](https://youtu.be/WLBszzT0jp4?list=PLUMWjy5jgHK3-ca6GP6PL0AgcNGHqn33f&t=610) so this applies*)"
   ]
  },
  {
   "cell_type": "code",
   "execution_count": 34,
   "metadata": {},
   "outputs": [
    {
     "data": {
      "image/png": "[encoded data removed]",
      "text/plain": [
       "<Figure size 432x288 with 1 Axes>"
      ]
     },
     "metadata": {
      "needs_background": "light"
     },
     "output_type": "display_data"
    }
   ],
   "source": [
    "zeta = 0.46\n",
    "w_n = 2.44e-3\n",
    "Re = -zeta*w_n\n",
    "Im = w_n\n",
    "\n",
    "fig, ax = pp.subplots()\n",
    "ax.plot([Re,Re],[Im,-Im],'rx')\n",
    "ax.axis([-1e-2, 1e-3, -4e-3, 4e-3])\n",
    "ax.set_xlabel('$\\sigma$ (Re)')\n",
    "ax.set_ylabel('$j\\omega$ (Im)')\n",
    "ax.axhline(0,lw=0.5,c='k') # x = 0\n",
    "ax.axvline(0,lw=0.5,c='k') # y = 0\n",
    "pp.show()"
   ]
  },
  {
   "cell_type": "markdown",
   "metadata": {},
   "source": [
    "Now let's take a look at how the system would behave if we used a simple gain (P) controller. That will show us whether we actually need a more complex controller to meet our design requirements. We'll plot the root locus of a feedback system consisting of that controller, $K_p$, inline with the plant. The OLTF of the P compensated system is\n",
    "\n",
    "$$C(s)P(s)=K_p\\frac{1.446\\times10^{-3}}{s}$$\n",
    "\n",
    "which means that the CLTF is $$H_p(s)= \\frac{K_p\\frac{1.446\\times10^{-3}}{s}}{1-K_p\\frac{1.446\\times10^{-3}}{s}}$$\n",
    "\n",
    "The root locus diagram is a plot of how the poles (*why not also the zeroes?*) (*what does knowing the location of the poles tell us?*) of the CLTF vary as K varies. In order to find those poles, we set the denominator of $H_p(s)$ equal to zero. Then we plot the solution ($s$) to that characteristic equation, $1-K_pP(s)=0$, in the s-plane as $K_p$ varies from 0 to $\\infty$.\n",
    "\n",
    "From the Python Control Systems Library documentation for ``control.root_locus``: \"Calculate the root locus by finding the roots of 1+k\\*TF(s).\" So to find the roots of 1-k*TF(s), I pass in $P$ as $-P$."
   ]
  },
  {
   "cell_type": "code",
   "execution_count": 35,
   "metadata": {},
   "outputs": [
    {
     "data": {
      "image/png": "[encoded data removed]",
      "text/plain": [
       "<Figure size 432x288 with 1 Axes>"
      ]
     },
     "execution_count": 35,
     "metadata": {},
     "output_type": "execute_result"
    }
   ],
   "source": [
    "rlist, klist = control.root_locus(-P/s,Plot=False) # -P since the output is added at the summing junction\n",
    "sigma = [x.real for x in rlist]\n",
    "jw = [x.imag for x in rlist]\n",
    "ax.plot(sigma,jw,'c',)\n",
    "ax.plot(rlist[0],0,'cx')\n",
    "fig"
   ]
  },
  {
   "cell_type": "markdown",
   "metadata": {},
   "source": [
    "*OR (interesting!) \"A root locus diagram is a plot that shows how the eigenvalues of a linear (or linearized) system change as a function of a single parameter...\"[*](https://www.cds.caltech.edu/~murray/amwiki/index.php/Root_Locus_Diagram)*\n",
    "\n",
    "The x marks the one open loop pole of the system, which is where $K_p=0$ (*0•P(s)=0, how does that work?*). Stated differently, x is at the value of $s$ that causes $P(s)=\\frac{K_L K_P}{s}$ to go to infinity. [Here is a video](https://www.youtube.com/watch?v=LYd2D8NqLOc) that explains why the root locus of the closed loop transfer function $H_p(s)$ terminates at the poles (and zeroes) of the open loop transfer function $P(s)$.\n",
    "\n",
    "The pole will move along the blue line as $K_p$ varies, but will never reach either red x, which indicates that we need something more than a proportional controller. This makes sense, because our open loop transfer function is only first order. To achieve two poles, we need to increase the order of the OLTF denominator.\n",
    "\n",
    "Because we want to respond to both level and cumulative effect of the CO2, let's use a PI controller to increase the denominator order. *(actually it might be a PD controller, since we want to respond to high rates with bright lights, but let's try Garbini's suggestion for now.)* (*intuition/explanation why adding an I will make the curve split*) (*does adding I improve disturbance handling?*)\n",
    "\n",
    "In time, a PID controller will be as follows.\n",
    "\n",
    "$$u(t)=K_pe(t)+K_i\\int_0^t{e(\\tau)d\\tau}+K_d\\frac{de(t)}{dt}$$\n",
    "\n",
    "Since we are building a PI controller, $K_d=0$. Taking a [Laplace transform](https://tutorial.math.lamar.edu/classes/de/laplace_table.aspx) to transform the controller to the ~frequency~ **s-**domain (*why not frequency domain?*), we get\n",
    "\n",
    "$$U(s) = K_pE(s)+K_i\\frac{E(s)}{s}$$\n",
    "\n",
    "so $$C(s) = \\frac{U(s)}{E(s)} = K_p+\\frac{K_i}{s} = K_p\\frac{\\left(s+\\frac{K_i}{K_p}\\right)}{s}$$\n",
    "\n",
    "So, as the equation indicates, a PI controller adds a zero at $-\\frac{K_i}{K_p}$ and a pole at the origin. Note that the final form above is in *zpk format*. The open loop transfer function of the PI compensated system looks like this:\n",
    "\n",
    "$$C(s)P(s)=K_p\\frac{\\left(s+\\frac{K_i}{K_p}\\right)}{s}\\frac{K_LK_P}{s}$$\n",
    "\n",
    "### Determining the gains\n",
    "Now we need to choose values for $K_p$ and $K_i$. Or, another way to think about it that we will move the location of the zero, in addition to changing the common gain $K_p$.[*](https://youtu.be/Hk6YBO_A_PU?t=490) Let's try setting the zero first in order to shape the root locus, then we'll change $K_p$ to put the poles where we want them on the root locus. *(Is there a way to figure out mathematically what $-\\frac{K_i}{K_p}$ should be?*)"
   ]
  },
  {
   "cell_type": "code",
   "execution_count": 36,
   "metadata": {
    "scrolled": false
   },
   "outputs": [
    {
     "data": {
      "image/png": "[encoded data removed]",
      "text/plain": [
       "<Figure size 432x288 with 1 Axes>"
      ]
     },
     "metadata": {
      "needs_background": "light"
     },
     "output_type": "display_data"
    }
   ],
   "source": [
    "z = -40/11999 # -K_i/K_p; why is this so dumb?\n",
    "C = (s-z)/s # justification for this being negative...\n",
    "sys = control.series(1/s,P,C)\n",
    "\n",
    "fig, ax = pp.subplots()\n",
    "ax.axis([-1e-2, 1e-3, -4e-3, 4e-3])\n",
    "ax.set_xlabel('$\\sigma$ (Re)')\n",
    "ax.set_ylabel('$j\\omega$ (Im)')\n",
    "ax.axhline(0,lw=0.5,c='k') # x = 0\n",
    "ax.axvline(0,lw=0.5,c='k') # y = 0\n",
    "rlist, klist = control.root_locus(-sys,Plot=False) # once again, -sys because it's a positive feedback system\n",
    "sigma = [x.real for x in rlist]\n",
    "jw = [x.imag for x in rlist]\n",
    "ax.plot(sigma,jw,'c',)\n",
    "ax.plot([-0.00003,0.00003],[0,0],'cx') # plot origin poles slightly offset for visibility\n",
    "ax.plot(z,0,'co',fillstyle='none')\n",
    "ax.plot([Re,Re],[Im,-Im],'rx')\n",
    "pp.show()"
   ]
  },
  {
   "cell_type": "markdown",
   "metadata": {},
   "source": [
    "A $-\\frac{K_i}{K_p}$ ratio of about $-\\frac{1}{300}$ produces a root locus that contains the two open loop poles we're trying to achieve. We could also say that we put a zero at $-\\frac{1}{300}$ and a pole at the origin. Now we just need to find the value of $K_p$ that will result in the desired open loop poles, which we will do using the magnitude criterion:\n",
    "\n",
    "$$|KG(s)H(s)|=1$$\n",
    "so\n",
    "$$K_p = \\frac{1}{|C(s)P(s)|} = \\frac{\\Pi\\textrm{ pole lengths}}{\\Pi\\textrm{ zero lengths}}$$\n",
    "\n",
    "*(from Nise eqn. 8.14 and 8.21)*\n",
    "\n",
    "Explained graphically:"
   ]
  },
  {
   "cell_type": "code",
   "execution_count": 37,
   "metadata": {},
   "outputs": [
    {
     "data": {
      "image/png": "[encoded data removed]",
      "text/plain": [
       "<Figure size 432x288 with 1 Axes>"
      ]
     },
     "execution_count": 37,
     "metadata": {},
     "output_type": "execute_result"
    }
   ],
   "source": [
    "x1 = [z,Re]\n",
    "x2 = [0,Re]\n",
    "y = [0,Im]\n",
    "ax.plot(x1,y,'k--',label='A')\n",
    "ax.plot(x2,y,'k--',label='B,C')\n",
    "ax.text(z+.0008,Im/2+.0002,'A')\n",
    "ax.text(Re/2-.00075,Im/2-.00025,'B,C')\n",
    "fig"
   ]
  },
  {
   "cell_type": "code",
   "execution_count": 38,
   "metadata": {},
   "outputs": [
    {
     "name": "stdout",
     "output_type": "stream",
     "text": [
      "K_p = 1.6312616653839402\n",
      "K_i = 0.005437992050617352\n"
     ]
    }
   ],
   "source": [
    "mag_A = np.sqrt((x1[1]-x1[0])**2+(y[1]-y[0])**2)\n",
    "mag_BC = np.sqrt((x2[1]-x2[0])**2+(y[1]-y[0])**2)\n",
    "K_p = 2*mag_BC/mag_A\n",
    "K_i = -z*K_p\n",
    "print('K_p =',K_p)\n",
    "print('K_i =',K_i)"
   ]
  },
  {
   "cell_type": "code",
   "execution_count": 39,
   "metadata": {},
   "outputs": [
    {
     "name": "stdout",
     "output_type": "stream",
     "text": [
      "PI compensated OLTF:\n",
      " \n",
      "-0.002359 s - 7.864e-06\n",
      "-----------------------\n",
      "          s^2\n",
      "\n"
     ]
    }
   ],
   "source": [
    "C = K_p+K_i/s\n",
    "sys = C*P\n",
    "print('PI compensated OLTF:\\n',(1/s)*sys)"
   ]
  },
  {
   "cell_type": "markdown",
   "metadata": {},
   "source": [
    "*is it coincidence that K_p/K_i is pretty much exactly 300? probably not. why is it?*"
   ]
  },
  {
   "cell_type": "markdown",
   "metadata": {},
   "source": [
    "### Complete feedback loop\n",
    "The closed loop model is almost complete. We only need to add a disturbance in CO2 rate to represent the rate that CO2 will be added to the ambient environment by a human or another process. This results in the following closed loop system.\n",
    "\n",
    "![](bioreactorcontroller.png)\n",
    "\n",
    "where"
   ]
  },
  {
   "cell_type": "code",
   "execution_count": 40,
   "metadata": {},
   "outputs": [
    {
     "name": "stdout",
     "output_type": "stream",
     "text": [
      "R = 800 \tppm\n",
      "K_p = 1.63 \t%/ppm\n",
      "K_i = 0.00544 \t%*s/ppm\n",
      "K_L = 41.4 \tlux/%\n",
      "K_P = -3.493e-05 ppm/lux*s\n"
     ]
    }
   ],
   "source": [
    "R = 800 # ppm\n",
    "print(\"R =\",R,\"\\tppm\")\n",
    "print(\"K_p =\",round(K_p,2),\"\\t%/ppm\")\n",
    "print(\"K_i =\",round(K_i,5),\"\\t%*s/ppm\")\n",
    "print(\"K_L =\",K_L,\"\\tlux/%\")\n",
    "print(\"K_P =\",K_P,\"ppm/lux*s\")"
   ]
  },
  {
   "cell_type": "markdown",
   "metadata": {},
   "source": [
    "[Units might be wrong]"
   ]
  },
  {
   "cell_type": "markdown",
   "metadata": {},
   "source": [
    "### Simulations\n",
    "This derivation is adapted from a [video by Steve Brunton](https://youtu.be/vxTJMGqjGdg?list=PLMrJAkhIeNNR20Mz-VpzgfQs5zrYi085m&t=912). \n",
    "\n",
    "The state space representation of the plant is as follows\n",
    "\n",
    "$$\\dot x = Pu + \\delta$$\n",
    "$$y = x$$\n",
    "\n",
    "where $P=K_LK_P$. $x(t)$ physically represents the rate of change of ambient carbon dioxide concentration, and recall that $u(t)$ is the PWM percentage. Continuing from an earlier equation,\n",
    "\n",
    "$$u = K_p(y-r)+K_i\\int (y-r) dt$$\n",
    "\n",
    "Let's create a new state variable, $z$.\n",
    "\n",
    "$$\\dot z = y-r = x-r$$\n",
    "\n",
    "Thus,\n",
    "\n",
    "$$u = K_p(x-r)+K_iz$$\n",
    "\n",
    "Plugging into the equation for the state variable $\\dot x$,\n",
    "\n",
    "$$\\dot x = PK_p(x-r)+PK_iz+\\delta$$\n",
    "\n",
    "So the state space representation of the compensated system, now in matrix form, is as follows.\n",
    "\n",
    "$$\n",
    "\\frac{d}{dt}\\left[\\begin{array}{aa} x\\\\z \\end{array}\\right]\n",
    "=\\left[\\begin{array}{aa} PK_p & PK_i \\\\ 1 & 0 \\end{array}\\right] \\left[\\begin{array}{aa} x\\\\z \\end{array}\\right]\n",
    "+\\left[\\begin{array}{aa} -PK_p\\\\-1 \\end{array}\\right] r\n",
    "+\\left[\\begin{array}{aa} 1\\\\0 \\end{array}\\right]\\delta\n",
    "$$\n",
    "\n",
    "$$y=\\left[\\begin{array}{aa} 1 & 0 \\end{array}\\right] \\left[\\begin{array}{aa} x\\\\z \\end{array}\\right]$$\n",
    "\n",
    "Let's first simulate the response of the bioreactor ($y(t)$; that is, the ambient carbon dioxide concentration) to a step change in PWM signal from 0% to 100%. Putting the coefficients from the plant in standard A, B, C, D state space form:"
   ]
  },
  {
   "cell_type": "code",
   "execution_count": 41,
   "metadata": {},
   "outputs": [
    {
     "data": {
      "text/plain": [
       "[<matplotlib.lines.Line2D at 0x7fd68aa31640>]"
      ]
     },
     "execution_count": 41,
     "metadata": {},
     "output_type": "execute_result"
    },
    {
     "data": {
      "image/png": "[encoded data removed]",
      "text/plain": [
       "<Figure size 432x288 with 1 Axes>"
      ]
     },
     "metadata": {
      "needs_background": "light"
     },
     "output_type": "display_data"
    }
   ],
   "source": [
    "A = 0\n",
    "B = K_L*K_P\n",
    "C = 1\n",
    "D = 0\n",
    "\n",
    "u = np.full(3600,100) # duty cycle = 100%\n",
    "\n",
    "sys_plant = control.ss(A, B, C, D)\n",
    "\n",
    "[t_P,y_P,x_P] = control.forced_response(sys_plant,T=np.arange(0,3600),U=u,X0=800) # CO2 concentration response to a step in PWM duty cyle (in percent)\n",
    "# y_P: carbon dioxide concentration\n",
    "# x_P: \"time evolution of the state vector\" what is the state vector?\n",
    "pp.plot(t_P,y_P)"
   ]
  },
  {
   "cell_type": "markdown",
   "metadata": {},
   "source": [
    "Let's also note the state equation for $u(t)$, the PWM duty cycle response.\n",
    "\n",
    "$$u=\\left[\\begin{array}{aa} K_p & K_i \\end{array}\\right] \\left[\\begin{array}{aa} x\\\\z \\end{array}\\right]+\\left[\\begin{array}{aa} -K_p \\end{array}\\right]r$$\n",
    "\n",
    "Now we plot the responses $y(t)$ and $u(t)$ to a $1\\frac{ppm}{min}$ step increase in ambient carbon dioxide rate.\n",
    "\n",
    "*[is R really just not used?]*"
   ]
  },
  {
   "cell_type": "code",
   "execution_count": 1,
   "metadata": {},
   "outputs": [
    {
     "ename": "NameError",
     "evalue": "name 'K_L' is not defined",
     "output_type": "error",
     "traceback": [
      "\u001b[0;31m---------------------------------------------------------------------------\u001b[0m",
      "\u001b[0;31mNameError\u001b[0m                                 Traceback (most recent call last)",
      "\u001b[0;32m<ipython-input-1-05b817c2e77e>\u001b[0m in \u001b[0;36m<module>\u001b[0;34m\u001b[0m\n\u001b[0;32m----> 1\u001b[0;31m \u001b[0mA\u001b[0m \u001b[0;34m=\u001b[0m \u001b[0;34m[\u001b[0m\u001b[0;34m[\u001b[0m\u001b[0mK_L\u001b[0m\u001b[0;34m*\u001b[0m\u001b[0mK_P\u001b[0m\u001b[0;34m*\u001b[0m\u001b[0mK_p\u001b[0m\u001b[0;34m,\u001b[0m\u001b[0mK_L\u001b[0m\u001b[0;34m*\u001b[0m\u001b[0mK_P\u001b[0m\u001b[0;34m*\u001b[0m\u001b[0mK_i\u001b[0m\u001b[0;34m]\u001b[0m\u001b[0;34m,\u001b[0m\u001b[0;34m[\u001b[0m\u001b[0;36m1\u001b[0m\u001b[0;34m,\u001b[0m\u001b[0;36m0\u001b[0m\u001b[0;34m]\u001b[0m\u001b[0;34m]\u001b[0m\u001b[0;34m\u001b[0m\u001b[0;34m\u001b[0m\u001b[0m\n\u001b[0m\u001b[1;32m      2\u001b[0m \u001b[0mB\u001b[0m \u001b[0;34m=\u001b[0m \u001b[0;34m[\u001b[0m\u001b[0;34m[\u001b[0m\u001b[0;36m1\u001b[0m\u001b[0;34m]\u001b[0m\u001b[0;34m,\u001b[0m\u001b[0;34m[\u001b[0m\u001b[0;36m0\u001b[0m\u001b[0;34m]\u001b[0m\u001b[0;34m]\u001b[0m \u001b[0;31m# we want to simulate what happens for a step input in d\u001b[0m\u001b[0;34m\u001b[0m\u001b[0;34m\u001b[0m\u001b[0m\n\u001b[1;32m      3\u001b[0m \u001b[0mC\u001b[0m \u001b[0;34m=\u001b[0m \u001b[0;34m[\u001b[0m\u001b[0;36m1\u001b[0m\u001b[0;34m,\u001b[0m\u001b[0;36m0\u001b[0m\u001b[0;34m]\u001b[0m\u001b[0;34m\u001b[0m\u001b[0;34m\u001b[0m\u001b[0m\n\u001b[1;32m      4\u001b[0m \u001b[0mC_u\u001b[0m \u001b[0;34m=\u001b[0m \u001b[0;34m[\u001b[0m\u001b[0mK_p\u001b[0m\u001b[0;34m,\u001b[0m\u001b[0mK_i\u001b[0m\u001b[0;34m]\u001b[0m\u001b[0;34m\u001b[0m\u001b[0;34m\u001b[0m\u001b[0m\n\u001b[1;32m      5\u001b[0m \u001b[0mD\u001b[0m \u001b[0;34m=\u001b[0m \u001b[0;36m0\u001b[0m\u001b[0;34m\u001b[0m\u001b[0;34m\u001b[0m\u001b[0m\n",
      "\u001b[0;31mNameError\u001b[0m: name 'K_L' is not defined"
     ]
    }
   ],
   "source": [
    "A = [[K_L*K_P*K_p,K_L*K_P*K_i],[1,0]]\n",
    "B = [[1],[0]] # we want to simulate what happens for a step input in d\n",
    "C = [1,0]\n",
    "C_u = [K_p,K_i]\n",
    "D = 0\n",
    "\n",
    "d = np.full(3600,1/6)\n",
    "\n",
    "sys_PI = control.ss(A,B,C,D)\n",
    "[t_PI,y_PI,x_PI] = control.forced_response(sys_PI,T=np.arange(0,3600),U=d)\n",
    "\n",
    "sys_PI_u = control.ss(A,B,C_u,D)\n",
    "[t_PI1,u_PI1,x_PI1] = control.forced_response(sys_PI_u,T=np.arange(0,3600),U=d)\n",
    "pp.plot(t_PI1,u_PI1)\n",
    "\n",
    "# plot\n",
    "fig_s, ax_s = pp.subplots()\n",
    "ax_s.set_xlabel('time (s)')\n",
    "ax_s.set_ylabel('CO2 concentration (ppm)')\n",
    "pp.plot(t_PI,y_PI+800)\n",
    "\n"
   ]
  },
  {
   "cell_type": "markdown",
   "metadata": {},
   "source": [
    "## Water CO2 absorption\n",
    "\n",
    "Henry's law: $C=kP$\n",
    "\n",
    "https://www.fxsolver.com/browse/formulas/Henry%27s+law:\n",
    "- C: concentration of the solute (mol/L)\n",
    "- P: partial pressure of the solute in the gas above the solution (atm)\n",
    "- k: a constant with the dimensions of pressure divided by concentration. The constant, known as the Henry's law constant, depends on the solute, the solvent and the temperature. (L*atm/mol)\n",
    "\n",
    "1: pre-rise in CO2\n",
    "2: post-rise in CO2\n",
    "\n",
    "[k values](hook://file/uM3yuOoUu?p=Z2VpbWFuL0Rvd25sb2Fkcw==&n=web-L23.pdf)\n",
    "\n",
    "[Mole fraction of CO2](https://socratic.org/questions/how-would-you-calculate-the-partial-pressure-of-co2-given-an-atmospheric-pressur): (ppm CO2)/(ppm total)"
   ]
  },
  {
   "cell_type": "code",
   "execution_count": 4,
   "metadata": {},
   "outputs": [
    {
     "name": "stdout",
     "output_type": "stream",
     "text": [
      "0.0735  liters of CO2 absorbed for 1000ppm increase in ambient CO2.\n",
      "Need to add  0.131  L of CO2 to a 131L gas volume to increase CO2 by 1000ppm.\n"
     ]
    }
   ],
   "source": [
    "k = 29.41 # L*atm/mol\n",
    "M_gas = 24.0 # mol/L of ideal gas\n",
    "\n",
    "dfrac = 1000/1e6 # change in mol frac (ppm CO2 / ppm total)\n",
    "dP = dfrac*1 # change in mol frac * pressure (atm)\n",
    "dC = k*dP # mol/L\n",
    "dm = dC*60/24.0 # L; 60 L bioreactor, 24.0 mol/L\n",
    "print(round(dm,4),\" liters of CO2 absorbed for 1000ppm increase in ambient CO2.\")\n",
    "\n",
    "V_br = 18 + 113 # L (br + tub gas volume)\n",
    "mol_air = M_gas*V_br # mol air\n",
    "mol_CO2 = mol_air*dfrac # mol CO2\n",
    "V_CO2 = mol_CO2/M_gas\n",
    "print(\"Need to add \",V_CO2,\" L of CO2 to a 131L gas volume to increase CO2 by 1000ppm.\")"
   ]
  },
  {
   "cell_type": "markdown",
   "metadata": {},
   "source": [
    "So, factoring in Henry's Law, I have to add 0.13 + 0.07 L of CO2 to the bioreactor volume to increase the CO2 by 1000ppm. \n",
    "\n",
    "What timescale does Henry's Law happen on? Water will consume CO2 when CO2 rises and release CO2 when CO2 lowers; algae will always consume CO2. The main point of the paper: demonstrate that algae change their rate of consumption at different light levels, a fact that can be used to save energy. Can we demonstrate that, even with the CO2 diffusion into water? Seems like system ID indicates that we can: approximately the same amount of CO2 was added in each circumstance and the higher the lights the faster it was consumed. Potentially there will be some dissolved CO2 in the water between experiments so it might be worth leaving the system to run at 800 ppm for a while to get the CO2 in the water back to a steady state starting point for each sytem ID and scenario experiment.\n",
    "\n",
    "CO2 up, lights up, water consuming, algae consumption rate up.\n",
    "CO2 up, lights down, water releasing, algae consumption rate down.\n",
    "\n",
    "## CO2 addition calculation"
   ]
  },
  {
   "cell_type": "code",
   "execution_count": 15,
   "metadata": {},
   "outputs": [
    {
     "name": "stdout",
     "output_type": "stream",
     "text": [
      "Run peristaltic pump for 119 s to increase CO2 concentration by 1000 ppm.\n"
     ]
    }
   ],
   "source": [
    "v_ppump = 1.1 # mL/s; avg of 6 trials\n",
    "t_ppump = (V_CO2/v_ppump)*1e3 # s/ppm\n",
    "print(\"Run peristaltic pump for\",round(t_ppump),\"s to increase CO2 concentration by 1000 ppm.\")"
   ]
  },
  {
   "cell_type": "markdown",
   "metadata": {},
   "source": [
    "# Helpful resources\n",
    "---\n",
    "## A comparison of the types of compensators and controllers\n",
    "- [what are lead lag compensators?](https://www.youtube.com/watch?v=xLhvil5sDcU)\n",
    "\n",
    "### Lead compensation\n",
    "Lead compensators can be used to move the dominant poles (the ones that are responsible for the majority of the response) to the left in order to increase system stability (*what does that mean?*). A lead compensator adds a pole and a zero, with the pole being the smaller of the two. As long as the added pole is sufficiently small the system still behaves more or less like a second order system, which means we can still use damping ratio and natural frequency of the second order charactistic polynomial (remember, the bottom of the compensated OLTF) to meet system requirements. For example:"
   ]
  },
  {
   "cell_type": "code",
   "execution_count": 43,
   "metadata": {},
   "outputs": [
    {
     "data": {
      "image/png": "[encoded data removed]",
      "text/plain": [
       "<Figure size 432x288 with 1 Axes>"
      ]
     },
     "metadata": {
      "needs_background": "light"
     },
     "output_type": "display_data"
    }
   ],
   "source": [
    "G = 1/((s+1)*(s+2)) # plant\n",
    "z_l = -3\n",
    "p_l = -4\n",
    "C_lead = (s-z_l)/(s-p_l) # lead compensator\n",
    "r, k = control.root_locus(G*C_lead,grid=False)"
   ]
  },
  {
   "cell_type": "markdown",
   "metadata": {},
   "source": [
    "Here's [a longer example](https://www.youtube.com/watch?v=NMpmb0ihoFo&list=PLUMWjy5jgHK3-ca6GP6PL0AgcNGHqn33f&index=4) of how a lead compensator can be designed with root locus."
   ]
  },
  {
   "cell_type": "markdown",
   "metadata": {},
   "source": [
    "### Lag compensation\n",
    "Lag compensators can be used move the dominant poles to the right, but that's not usually the point. Instead lag compensators are typically used to improve steady state error, while moving the root locus as little as possible. An example is given [here](https://youtu.be/vXwOzDs5xKY?list=PLUMWjy5jgHK3-ca6GP6PL0AgcNGHqn33f&t=165).\n",
    "\n",
    "*why would we want a PID vs. lead/lag compensator?*\n",
    "\n",
    "### PID compensation\n"
   ]
  },
  {
   "cell_type": "markdown",
   "metadata": {},
   "source": [
    "## Domains\n",
    "[Good explanation here](https://youtu.be/WLBszzT0jp4?list=PLUMWjy5jgHK3-ca6GP6PL0AgcNGHqn33f&t=476)\n",
    "\n",
    "Time domain:\n",
    "\n",
    "Frequency domain:\n",
    "- Bandwidth\n",
    "- Gain margin\n",
    "- Phase margin\n",
    "- etc.\n",
    "\n",
    "S-domain:\n",
    "- Pole/zero locations\n",
    "\n",
    "## Calculating the closed loop transfer function\n",
    "- https://eng.libretexts.org/Bookshelves/Industrial_and_Systems_Engineering/Book%3A_Introduction_to_Control_Systems_(Iqbal)/04%3A_Control_System_Design_Objectives/4.04%3A_Disturbance_Rejection\n",
    "- https://youtu.be/y4H03UOjlas?list=PLMrJAkhIeNNR20Mz-VpzgfQs5zrYi085m&t=674\n",
    "\n",
    "**[Control Bootcamp: Cruise Control Example with Proportional-Integral (PI) control](https://youtu.be/vxTJMGqjGdg?list=PLMrJAkhIeNNR20Mz-VpzgfQs5zrYi085m)**:\n"
   ]
  },
  {
   "cell_type": "markdown",
   "metadata": {},
   "source": [
    "---\n",
    "which design method to use?`\n",
    "- [Root locus design in Python](https://digital.library.txstate.edu/handle/10877/11938)\n",
    "\n",
    "*next*\n",
    "- understand fourier and laplace transform\n",
    "    - https://electronics.stackexchange.com/questions/86489/relation-and-difference-between-fourier-laplace-and-z-transforms\n",
    "    - https://www.youtube.com/watch?v=7UvtU75NXTg\n",
    "- controller design\n",
    "    - do we need lead-lag? (\"Situations may occur where there are excessive delays: the measurement of the process value is delayed, or the control action does not apply quickly enough.\")\n",
    "- understand the relationship between the poles and eigenvalues\n",
    "- which design techniques could I have used besides root locus?\n",
    "- add saturation: https://www.youtube.com/watch?v=6ivdfKfGp4k\n",
    "- calculate steady-state error of the compensated system: https://www.youtube.com/watch?v=vXwOzDs5xKY&list=PLUMWjy5jgHK3-ca6GP6PL0AgcNGHqn33f&index=5 (very helpful)\n",
    "\n",
    "*helpful links*\n",
    "- https://stackoverflow.com/questions/47053517/is-it-possible-to-generate-proper-root-locus-plots-with-python-3\n",
    "- [Controllers and compensators](https://en.wikibooks.org/wiki/Control_Systems/Controllers_and_Compensators)\n",
    "- [Discussion of the difference between controllers and compensators](https://www.researchgate.net/post/Controller-Vs-Compensator)\n",
    "- [Root locus method video series](https://www.youtube.com/playlist?list=PLUMWjy5jgHK3-ca6GP6PL0AgcNGHqn33f)"
   ]
  },
  {
   "cell_type": "markdown",
   "metadata": {},
   "source": [
    "The solutions, or the roots, of the characteristic equation are the poles of the closed loop system. when k=0, the solutions of the char. eqn. are the poles of the plant"
   ]
  }
 ],
 "metadata": {
  "kernelspec": {
   "display_name": "Python [conda env:engr] *",
   "language": "python",
   "name": "conda-env-engr-py"
  },
  "language_info": {
   "codemirror_mode": {
    "name": "ipython",
    "version": 3
   },
   "file_extension": ".py",
   "mimetype": "text/x-python",
   "name": "python",
   "nbconvert_exporter": "python",
   "pygments_lexer": "ipython3",
   "version": "3.8.5"
  }
 },
 "nbformat": 4,
 "nbformat_minor": 4
}
